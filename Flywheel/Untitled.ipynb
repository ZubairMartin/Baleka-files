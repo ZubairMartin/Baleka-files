{
 "cells": [
  {
   "cell_type": "code",
   "execution_count": 1,
   "id": "14fa1a46",
   "metadata": {},
   "outputs": [],
   "source": [
    "import dill"
   ]
  },
  {
   "cell_type": "code",
   "execution_count": 2,
   "id": "524cef3f",
   "metadata": {},
   "outputs": [],
   "source": [
    "a = 10\n",
    "\n",
    "if a>10:\n",
    "    print('h')\n",
    "elif a == 1:\n",
    "    print('w')"
   ]
  },
  {
   "cell_type": "code",
   "execution_count": 3,
   "id": "e392a288",
   "metadata": {},
   "outputs": [
    {
     "ename": "SyntaxError",
     "evalue": "invalid syntax (<ipython-input-3-42789f1103f4>, line 1)",
     "output_type": "error",
     "traceback": [
      "\u001b[0;36m  File \u001b[0;32m\"<ipython-input-3-42789f1103f4>\"\u001b[0;36m, line \u001b[0;32m1\u001b[0m\n\u001b[0;31m    else:\u001b[0m\n\u001b[0m    ^\u001b[0m\n\u001b[0;31mSyntaxError\u001b[0m\u001b[0;31m:\u001b[0m invalid syntax\n"
     ]
    }
   ],
   "source": [
    "else: \n",
    "    print('k')"
   ]
  },
  {
   "cell_type": "code",
   "execution_count": null,
   "id": "f0500a93",
   "metadata": {},
   "outputs": [],
   "source": []
  }
 ],
 "metadata": {
  "kernelspec": {
   "display_name": "Python 3",
   "language": "python",
   "name": "python3"
  },
  "language_info": {
   "codemirror_mode": {
    "name": "ipython",
    "version": 3
   },
   "file_extension": ".py",
   "mimetype": "text/x-python",
   "name": "python",
   "nbconvert_exporter": "python",
   "pygments_lexer": "ipython3",
   "version": "3.9.5"
  }
 },
 "nbformat": 4,
 "nbformat_minor": 5
}
