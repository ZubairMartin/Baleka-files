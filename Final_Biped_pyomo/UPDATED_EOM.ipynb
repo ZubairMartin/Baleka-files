{
 "cells": [
  {
   "cell_type": "code",
   "execution_count": 1,
   "id": "05cd8575",
   "metadata": {},
   "outputs": [
    {
     "name": "stdout",
     "output_type": "stream",
     "text": [
      "Once deleted, variables cannot be recovered. Proceed (y/[n])? y\n"
     ]
    }
   ],
   "source": [
    "# EOMs\n",
    "%reset\n",
    "#import libraries\n",
    "import sympy as sym\n",
    "import numpy as np\n",
    "import pickle as pickle\n",
    "\n",
    "sym.init_printing()\n",
    "from IPython.display import display #for pretty printing\n",
    "\n",
    "# Symbols --------------------------------------------------\n",
    "legs = ['A']\n",
    "links = ['ull','lll','url','lrl','foot']\n",
    "bases = ['body','boom']"
   ]
  },
  {
   "cell_type": "code",
   "execution_count": 2,
   "id": "8fcc9f81",
   "metadata": {},
   "outputs": [],
   "source": [
    "#Parameters\n",
    "masses = {}\n",
    "lengths = {}\n",
    "inertias = {}\n",
    "\n",
    "LL = sym.symbols('LL')\n",
    "g = sym.symbols('g')\n",
    "foot_angle = 150*(np.pi/180)\n",
    "\n",
    "for leg in legs:\n",
    "    for link in links:   \n",
    "        masses.update({(link,leg): sym.symbols('m_{0}'.format(link+leg))})\n",
    "        lengths.update({(link,leg): sym.symbols('l_{0}'.format(link+leg))})\n",
    "        inertias.update({(link,leg): sym.symbols('In_{0}'.format(link+leg))})\n",
    "\n",
    "for base in bases:\n",
    "    masses.update({(base): sym.symbols('m_{0}'.format(base))})\n",
    "    lengths.update({(base): sym.symbols('l_{0}'.format(base))})\n",
    "    inertias.update({(base): sym.symbols('In_{0}'.format(base))})\n",
    "\n",
    "#gen coordinates\n",
    "x_body,y_body,th_body = sym.symbols(['x_body','y_body','theta_{0}'.format('body')])\n",
    "dx_body,dy_body,dth_body = sym.symbols(['\\dot{\\\\x}_{body}','\\dot{\\\\y}_{body}','\\dot{\\\\theta}_{body}'])\n",
    "ddx_body,ddy_body,ddth_body = sym.symbols(['\\ddot{\\\\x}_{body}','\\ddot{\\\\y}_{body}','\\ddot{\\\\theta}_{body}'])\n",
    "\n",
    "th = {}\n",
    "dth = {}\n",
    "ddth = {}\n",
    "\n",
    "for leg in legs:\n",
    "    for link in links:\n",
    "        if 'foot' in link:\n",
    "            pass\n",
    "        else:\n",
    "            th.update({(link,leg): sym.symbols('theta_{0}'.format(link+leg))}) \n",
    "            dth.update({(link,leg): sym.symbols('\\dot{{\\\\theta}}_{{{0}}}'.format(link+leg))})\n",
    "            ddth.update({(link,leg): sym.symbols('\\ddot{{\\\\theta}}_{{{0}}}'.format(link+leg))})"
   ]
  },
  {
   "cell_type": "code",
   "execution_count": 3,
   "id": "cd52d585",
   "metadata": {},
   "outputs": [],
   "source": [
    "q = sym.Matrix([x_body]+[y_body]+[th_body]+[th[link,leg] for leg in legs for link in links if 'foot' not in link])\n",
    "dq = sym.Matrix([dx_body]+[dy_body]+[dth_body]+[dth[link,leg] for leg in legs for link in links if 'foot' not in link])\n",
    "ddq = sym.Matrix([ddx_body]+[ddy_body]+[ddth_body]+[ddth[link,leg] for leg in legs for link in links if 'foot' not in link])"
   ]
  },
  {
   "cell_type": "code",
   "execution_count": 4,
   "id": "565c8497",
   "metadata": {},
   "outputs": [
    {
     "data": {
      "text/latex": [
       "$\\displaystyle \\left[\\begin{matrix}x_{body}\\\\y_{body}\\\\\\theta_{body}\\\\\\theta_{ullA}\\\\\\theta_{lllA}\\\\\\theta_{urlA}\\\\\\theta_{lrlA}\\end{matrix}\\right]$"
      ],
      "text/plain": [
       "⎡x_body⎤\n",
       "⎢      ⎥\n",
       "⎢y_body⎥\n",
       "⎢      ⎥\n",
       "⎢θ_body⎥\n",
       "⎢      ⎥\n",
       "⎢θ_ullA⎥\n",
       "⎢      ⎥\n",
       "⎢θ_lllA⎥\n",
       "⎢      ⎥\n",
       "⎢θ_urlA⎥\n",
       "⎢      ⎥\n",
       "⎣θ_lrlA⎦"
      ]
     },
     "execution_count": 4,
     "metadata": {},
     "output_type": "execute_result"
    }
   ],
   "source": [
    "q"
   ]
  },
  {
   "cell_type": "code",
   "execution_count": 5,
   "id": "e58f8d85",
   "metadata": {},
   "outputs": [
    {
     "data": {
      "text/latex": [
       "$\\displaystyle \\left[\\begin{matrix}\\dot{\\x}_{body}\\\\\\dot{\\y}_{body}\\\\\\dot{\\theta}_{body}\\\\\\dot{\\theta}_{ullA}\\\\\\dot{\\theta}_{lllA}\\\\\\dot{\\theta}_{urlA}\\\\\\dot{\\theta}_{lrlA}\\end{matrix}\\right]$"
      ],
      "text/plain": [
       "⎡  \\dot{\\x}_{body}  ⎤\n",
       "⎢                   ⎥\n",
       "⎢  \\dot{\\y}_{body}  ⎥\n",
       "⎢                   ⎥\n",
       "⎢\\dot{\\theta}_{body}⎥\n",
       "⎢                   ⎥\n",
       "⎢\\dot{\\theta}_{ullA}⎥\n",
       "⎢                   ⎥\n",
       "⎢\\dot{\\theta}_{lllA}⎥\n",
       "⎢                   ⎥\n",
       "⎢\\dot{\\theta}_{urlA}⎥\n",
       "⎢                   ⎥\n",
       "⎣\\dot{\\theta}_{lrlA}⎦"
      ]
     },
     "execution_count": 5,
     "metadata": {},
     "output_type": "execute_result"
    }
   ],
   "source": [
    "dq"
   ]
  },
  {
   "cell_type": "code",
   "execution_count": 6,
   "id": "da1fc962",
   "metadata": {},
   "outputs": [
    {
     "data": {
      "text/latex": [
       "$\\displaystyle \\left[\\begin{matrix}\\ddot{\\x}_{body}\\\\\\ddot{\\y}_{body}\\\\\\ddot{\\theta}_{body}\\\\\\ddot{\\theta}_{ullA}\\\\\\ddot{\\theta}_{lllA}\\\\\\ddot{\\theta}_{urlA}\\\\\\ddot{\\theta}_{lrlA}\\end{matrix}\\right]$"
      ],
      "text/plain": [
       "⎡  \\ddot{\\x}_{body}  ⎤\n",
       "⎢                    ⎥\n",
       "⎢  \\ddot{\\y}_{body}  ⎥\n",
       "⎢                    ⎥\n",
       "⎢\\ddot{\\theta}_{body}⎥\n",
       "⎢                    ⎥\n",
       "⎢\\ddot{\\theta}_{ullA}⎥\n",
       "⎢                    ⎥\n",
       "⎢\\ddot{\\theta}_{lllA}⎥\n",
       "⎢                    ⎥\n",
       "⎢\\ddot{\\theta}_{urlA}⎥\n",
       "⎢                    ⎥\n",
       "⎣\\ddot{\\theta}_{lrlA}⎦"
      ]
     },
     "execution_count": 6,
     "metadata": {},
     "output_type": "execute_result"
    }
   ],
   "source": [
    "ddq"
   ]
  },
  {
   "cell_type": "code",
   "execution_count": 7,
   "id": "a2733d0f",
   "metadata": {},
   "outputs": [],
   "source": [
    "''' Setup positions (to COM) and velocities'''\n",
    "\n",
    "height = 2/3\n",
    "\n",
    "r_bases = {}\n",
    "\n",
    "# position to COM of each link - where the mass is approximated to be\n",
    "r_bases.update({'body': sym.Matrix([[x_body,\n",
    "                                     y_body]]).transpose()})\n",
    "\n",
    "r_bases.update({'boom': sym.Matrix([[x_body*height,\n",
    "                                     y_body*height]]).transpose()})\n",
    "\n",
    "# define absolute angles\n",
    "abs_angles = {}\n",
    "r_links = {}\n",
    "\n",
    "\n",
    "for leg in legs:\n",
    "    \n",
    "    abs_angles.update({('LU',leg): th_body + th['ull',leg]})\n",
    "    abs_angles.update({('LL',leg): th['lll',leg] - (np.pi - abs_angles['LU',leg])})\n",
    "    abs_angles.update({('RU',leg): th_body + th['url',leg]})\n",
    "    abs_angles.update({('RL',leg): th['lrl',leg] - (np.pi - abs_angles['RU',leg]) }) \n",
    "    abs_angles.update({('foot',leg): foot_angle - abs_angles['RL',leg]})\n",
    "    \n",
    "    r_links.update({('ull',leg): sym.Matrix([[x_body-LL/2*sym.cos(th_body)-lengths['ull',leg]/2*sym.cos(abs_angles['LU',leg]),\n",
    "                                              y_body-LL/2*sym.sin(th_body)-lengths['ull',leg]/2*sym.sin(abs_angles['LU',leg])]]).transpose()})\n",
    "    \n",
    "    r_links.update({('lll',leg): sym.Matrix([[r_links['ull',leg][0]-0.5*lengths['ull',leg]*sym.cos(abs_angles['LU',leg])+lengths['lll',leg]/2*sym.cos(np.pi-abs_angles['LL',leg]),\n",
    "                                              r_links['ull',leg][1]-0.5*lengths['ull',leg]*sym.sin(abs_angles['LU',leg])-lengths['lll',leg]/2*sym.sin(np.pi-abs_angles['LL',leg])]]).transpose()})\n",
    "    \n",
    "    r_links.update({('url',leg): sym.Matrix([[x_body+LL/2*sym.cos(th_body)+lengths['url',leg]/2*sym.cos(np.pi-abs_angles['RU',leg]),\n",
    "                                              y_body+LL/2*sym.sin(th_body)-lengths['url',leg]/2*sym.sin(np.pi-abs_angles['RU',leg])]]).transpose()})\n",
    "    \n",
    "    r_links.update({('lrl',leg): sym.Matrix([[r_links['url',leg][0]+0.5*lengths['url',leg]*sym.cos(np.pi-abs_angles['RU',leg])-lengths['lrl',leg]/2*sym.cos(abs_angles['RL',leg]),\n",
    "                                              r_links['url',leg][1]-0.5*lengths['url',leg]*sym.sin(np.pi-abs_angles['RU',leg])-lengths['lrl',leg]/2*sym.sin(abs_angles['RL',leg])]]).transpose()})\n",
    "    \n",
    "    r_links.update({('foot',leg): sym.Matrix([[r_links['lrl',leg][0]-0.5*lengths['lrl',leg]*sym.cos(abs_angles['RL',leg])+lengths['foot',leg]/2*sym.cos(abs_angles['foot',leg]),\n",
    "                                               r_links['lrl',leg][1]-0.5*lengths['lrl',leg]*sym.sin(abs_angles['RL',leg])-lengths['foot',leg]/2*sym.sin(abs_angles['foot',leg])]]).transpose()})"
   ]
  },
  {
   "cell_type": "code",
   "execution_count": 8,
   "id": "9a025ca5",
   "metadata": {},
   "outputs": [],
   "source": [
    "dr_bases = {}\n",
    "dr_links = {}\n",
    "w_links = {}\n",
    "w_bases = {}\n",
    "\n",
    "w_bases.update({'body': dth_body})\n",
    "\n",
    "for base in bases:\n",
    "    dr_bases.update({base: r_bases[base].jacobian(q)*dq})\n",
    "\n",
    "for leg in legs:\n",
    "    \n",
    "    w_links.update({('ull',leg): dth['ull',leg] + dth_body})\n",
    "    w_links.update({('lll',leg): dth['ull',leg] + dth['lll',leg] + dth_body})\n",
    "    w_links.update({('url',leg): dth['url',leg] + dth_body})\n",
    "    w_links.update({('lrl',leg): dth['url',leg] + dth['lrl',leg] + dth_body})\n",
    "    ''' ****** '''\n",
    "    w_links.update({('foot',leg): dth['url',leg] + dth['lrl',leg] + dth_body})\n",
    "    \n",
    "    for link in links:\n",
    "        dr_links.update({(link,leg): r_links[link,leg].jacobian(q)*dq})\n",
    "    "
   ]
  },
  {
   "cell_type": "code",
   "execution_count": 9,
   "id": "9cbbae47",
   "metadata": {},
   "outputs": [],
   "source": [
    "T_bases = {}\n",
    "T_links = {}\n",
    "V_bases = {}\n",
    "V_links = {}\n",
    "\n",
    "# Kinetic Energy\n",
    "T_bases.update({'body': 0.5*sym.Matrix([[masses['body'],masses['body']]])*sym.matrix_multiply_elementwise(dr_bases['body'],dr_bases['body']) + sym.Matrix([[0.5*w_bases['body']*w_bases['body']*inertias['body']]])})\n",
    "T_bases.update({'boom': 0.5*sym.Matrix([[masses['boom'],masses['boom']]])*sym.matrix_multiply_elementwise(dr_bases['boom'],dr_bases['boom'])})\n",
    "\n",
    "# Potential Energy\n",
    "for base in bases:\n",
    "    V_bases.update({base: masses[base]*g*r_bases[base][1]})\n",
    "\n",
    "\n",
    "for leg in legs:\n",
    "    for link in links:\n",
    "        T_links.update({(link,leg): 0.5*sym.Matrix([[masses[link,leg],masses[link,leg]]])*sym.matrix_multiply_elementwise(dr_links[link,leg],dr_links[link,leg]) + sym.Matrix([[0.5*w_links[link,leg]*w_links[link,leg]*inertias[link,leg]]])})\n",
    "        V_links.update({(link,leg): masses[link,leg]*g*r_links[link,leg][1]})\n",
    "\n",
    "Ttot = T_bases['body'] + T_bases['boom']\n",
    "Vtot = V_bases['body'] + V_bases['boom']\n",
    "    \n",
    "for leg in legs:\n",
    "    for link in links:\n",
    "        Ttot = Ttot + T_links[link,leg] \n",
    "        Vtot = Vtot + V_links[link,leg] \n",
    "        \n",
    "Ttot = Ttot[0]"
   ]
  },
  {
   "cell_type": "code",
   "execution_count": 10,
   "id": "3a067b54",
   "metadata": {},
   "outputs": [],
   "source": [
    "# Manipulator Equation (M*ddq + C + G = Tau + Q)\n",
    "\n",
    "# M Matrix\n",
    "M = sym.zeros(len(q),len(q))\n",
    "\n",
    "for i in range(len(q)):\n",
    "    for j in range(len(q)):\n",
    "        M[i,j] = sym.diff(sym.diff(Ttot,dq[i]),dq[j])\n",
    "\n",
    "M = sym.simplify(M)\n",
    "\n",
    "M_size = int(np.sqrt(len(M))) # assumes square matrix (len(M) = 4x4 = 16)\n",
    "\n",
    "dM = sym.zeros(M_size,M_size)\n",
    "\n",
    "for i in range(M_size):\n",
    "    for j in range(M_size):\n",
    "        dM[i,j] = sym.Matrix([M[i,j]]).jacobian(q)*dq\n",
    "\n",
    "# C Matrix\n",
    "C = dM*dq - (sym.Matrix([Ttot]).jacobian(q)).transpose() # 4x1 - 1x4^Transpose\n",
    "\n",
    "# G Matrix\n",
    "G = (sym.Matrix([Vtot]).jacobian(q)).transpose() # 4x1\n",
    "\n",
    "tau = {}\n",
    "lamda = {}\n",
    "GRF = {}\n",
    "\n",
    "connect_position = {}\n",
    "foot_position = {}\n",
    "\n",
    "Jbn = {}\n",
    "Jfoot = {}\n",
    "lamda_GRF = {}\n",
    "lamda_connect = {}\n",
    "\n",
    "Tau = sym.Matrix([[0],[0],[0]])\n",
    "\n",
    "Q = sym.zeros(len(q),1)\n",
    "\n",
    "for leg in legs:\n",
    "    tau.update({('left',leg): sym.symbols('tau_left{0}'.format(leg))})\n",
    "    tau.update({('right',leg): sym.symbols('tau_right{0}'.format(leg))})\n",
    "    lamda.update({('x',leg): sym.symbols('lamda_x{0}'.format(leg))})\n",
    "    lamda.update({('y',leg): sym.symbols('lamda_y{0}'.format(leg))})\n",
    "    GRF.update({('x',leg): sym.symbols('GRF_x{0}'.format(leg))})\n",
    "    GRF.update({('y',leg): sym.symbols('GRF_y{0}'.format(leg))})\n",
    "    \n",
    "    connect_position.update({('left',leg): sym.Matrix([[r_links['lll',leg][0]+0.5*lengths['lll',leg]*sym.cos(np.pi-abs_angles['LL',leg])],\n",
    "                                                       [r_links['lll',leg][1]-0.5*lengths['lll',leg]*sym.sin(np.pi-abs_angles['LL',leg])]]).transpose()})\n",
    "    \n",
    "    connect_position.update({('right',leg): sym.Matrix([[r_links['lrl',leg][0]-0.5*lengths['lrl',leg]*sym.cos(abs_angles['RL',leg])],\n",
    "                                                        [r_links['lrl',leg][1]-0.5*lengths['lrl',leg]*sym.sin(abs_angles['RL',leg])]]).transpose()})\n",
    "    ''' ****** '''\n",
    "    foot_position.update({(leg): sym.Matrix([[r_links['foot',leg][0]+0.5*lengths['foot',leg]*sym.cos(abs_angles['foot',leg])],\n",
    "                                             [r_links['foot',leg][1]-0.5*lengths['foot',leg]*sym.sin(abs_angles['foot',leg])]]).transpose()})\n",
    "\n",
    "    Jbn.update({('left',leg): connect_position['left',leg].jacobian(q)})                    \n",
    "    Jbn.update({('right',leg): connect_position['right',leg].jacobian(q)})                    \n",
    "    Jfoot.update({(leg): foot_position[leg].jacobian(q)})                    \n",
    "    lamda_GRF.update({(leg): sym.Matrix([[GRF['x',leg]],[GRF['y',leg]]])})\n",
    "    lamda_connect.update({('left',leg): sym.Matrix([[-lamda['x',leg]],[-lamda['y',leg]]])})\n",
    "    lamda_connect.update({('right',leg): sym.Matrix([[lamda['x',leg]],[lamda['y',leg]]])})\n",
    "    \n",
    "    Tau = Tau.col_join(sym.Matrix([[tau['left',leg]],[0],[tau['right',leg]],[0]]))\n",
    "    \n",
    "    Q = Q + (Jfoot[leg].transpose()*lamda_GRF[leg]) + (Jbn['left',leg].transpose()*lamda_connect['left',leg]) + (Jbn['right',leg].transpose()*lamda_connect['right',leg])"
   ]
  },
  {
   "cell_type": "code",
   "execution_count": 11,
   "id": "4d2c7761",
   "metadata": {},
   "outputs": [],
   "source": [
    "# Manipulator Equation \n",
    "EOM = M*ddq + G + C - Tau - Q \n",
    "\n",
    "# save the EOM in a file (saving the EOM saves lots of time)\n",
    "import dill\n",
    "dill.dump_session('unsimplified_monopod.db')"
   ]
  },
  {
   "cell_type": "code",
   "execution_count": 12,
   "id": "2ca110e5",
   "metadata": {},
   "outputs": [],
   "source": [
    "EOMs = sym.zeros(len(q),1)\n",
    "for j in range(len(q)):\n",
    "    EOMs[j] = EOM[j].simplify()"
   ]
  },
  {
   "cell_type": "code",
   "execution_count": 13,
   "id": "ef918723",
   "metadata": {},
   "outputs": [],
   "source": [
    "# save the EOM in a file (saving the EOM saves lots of time)\n",
    "import dill\n",
    "dill.dump_session('simplified_monopod.db')"
   ]
  }
 ],
 "metadata": {
  "kernelspec": {
   "display_name": "Python 3",
   "language": "python",
   "name": "python3"
  },
  "language_info": {
   "codemirror_mode": {
    "name": "ipython",
    "version": 3
   },
   "file_extension": ".py",
   "mimetype": "text/x-python",
   "name": "python",
   "nbconvert_exporter": "python",
   "pygments_lexer": "ipython3",
   "version": "3.9.5"
  }
 },
 "nbformat": 4,
 "nbformat_minor": 5
}
