{
 "cells": [
  {
   "cell_type": "code",
   "execution_count": 1,
   "id": "05cd8575",
   "metadata": {},
   "outputs": [
    {
     "name": "stdout",
     "output_type": "stream",
     "text": [
      "Once deleted, variables cannot be recovered. Proceed (y/[n])? y\n"
     ]
    }
   ],
   "source": [
    "# EOMs\n",
    "%reset\n",
    "#import libraries\n",
    "import sympy as sym\n",
    "import numpy as np\n",
    "import pickle as pickle\n",
    "\n",
    "sym.init_printing()\n",
    "from IPython.display import display #for pretty printing\n",
    "\n",
    "# Symbols --------------------------------------------------\n",
    "bases = ['body']"
   ]
  },
  {
   "cell_type": "code",
   "execution_count": 2,
   "id": "8fcc9f81",
   "metadata": {},
   "outputs": [],
   "source": [
    "#Parameters\n",
    "masses = {}\n",
    "\n",
    "g = sym.symbols('g')\n",
    "\n",
    "for base in bases:\n",
    "    masses.update({(base): sym.symbols('m_{0}'.format(base))})\n",
    "\n",
    "#gen coordinates\n",
    "x_body,y_body = sym.symbols(['x_body','y_body'])\n",
    "dx_body,dy_body = sym.symbols(['\\dot{\\\\x}_{body}','\\dot{\\\\y}_{body}'])\n",
    "ddx_body,ddy_body = sym.symbols(['\\ddot{\\\\x}_{body}','\\ddot{\\\\y}_{body}'])\n"
   ]
  },
  {
   "cell_type": "code",
   "execution_count": 3,
   "id": "cd52d585",
   "metadata": {},
   "outputs": [],
   "source": [
    "q = sym.Matrix([x_body]+[y_body])\n",
    "dq = sym.Matrix([dx_body]+[dy_body])\n",
    "ddq = sym.Matrix([ddx_body]+[ddy_body])"
   ]
  },
  {
   "cell_type": "code",
   "execution_count": 4,
   "id": "565c8497",
   "metadata": {},
   "outputs": [
    {
     "data": {
      "text/latex": [
       "$\\displaystyle \\left[\\begin{matrix}x_{body}\\\\y_{body}\\end{matrix}\\right]$"
      ],
      "text/plain": [
       "⎡x_body⎤\n",
       "⎢      ⎥\n",
       "⎣y_body⎦"
      ]
     },
     "execution_count": 4,
     "metadata": {},
     "output_type": "execute_result"
    }
   ],
   "source": [
    "q"
   ]
  },
  {
   "cell_type": "code",
   "execution_count": 5,
   "id": "e58f8d85",
   "metadata": {},
   "outputs": [
    {
     "data": {
      "text/latex": [
       "$\\displaystyle \\left[\\begin{matrix}\\dot{\\x}_{body}\\\\\\dot{\\y}_{body}\\end{matrix}\\right]$"
      ],
      "text/plain": [
       "⎡\\dot{\\x}_{body}⎤\n",
       "⎢               ⎥\n",
       "⎣\\dot{\\y}_{body}⎦"
      ]
     },
     "execution_count": 5,
     "metadata": {},
     "output_type": "execute_result"
    }
   ],
   "source": [
    "dq"
   ]
  },
  {
   "cell_type": "code",
   "execution_count": 6,
   "id": "da1fc962",
   "metadata": {},
   "outputs": [
    {
     "data": {
      "text/latex": [
       "$\\displaystyle \\left[\\begin{matrix}\\ddot{\\x}_{body}\\\\\\ddot{\\y}_{body}\\end{matrix}\\right]$"
      ],
      "text/plain": [
       "⎡\\ddot{\\x}_{body}⎤\n",
       "⎢                ⎥\n",
       "⎣\\ddot{\\y}_{body}⎦"
      ]
     },
     "execution_count": 6,
     "metadata": {},
     "output_type": "execute_result"
    }
   ],
   "source": [
    "ddq"
   ]
  },
  {
   "cell_type": "code",
   "execution_count": 7,
   "id": "a2733d0f",
   "metadata": {},
   "outputs": [],
   "source": [
    "''' Setup positions (to COM) and velocities'''\n",
    "\n",
    "r_bases = {}\n",
    "dr_bases = {}\n",
    "\n",
    "# position to COM of each link - where the mass is approximated to be\n",
    "r_bases.update({'body': sym.Matrix([[x_body,\n",
    "                                     y_body]]).transpose()})\n",
    "\n",
    "dr_bases.update({'body': r_bases['body'].jacobian(q)*dq})"
   ]
  },
  {
   "cell_type": "code",
   "execution_count": 8,
   "id": "9cbbae47",
   "metadata": {},
   "outputs": [],
   "source": [
    "T_bases = {}\n",
    "V_bases = {}\n",
    "\n",
    "# Kinetic Energy\n",
    "T_bases.update({'body': 0.5*sym.Matrix([[masses['body'],masses['body']]])*sym.matrix_multiply_elementwise(dr_bases['body'],dr_bases['body']) })\n",
    "\n",
    "# Potential Energy\n",
    "for base in bases:\n",
    "    V_bases.update({base: masses[base]*g*r_bases[base][1]})\n",
    "\n",
    "Ttot = T_bases['body']\n",
    "Vtot = V_bases['body']\n",
    "        \n",
    "Ttot = Ttot[0]"
   ]
  },
  {
   "cell_type": "code",
   "execution_count": 9,
   "id": "3a067b54",
   "metadata": {},
   "outputs": [],
   "source": [
    "# Manipulator Equation (M*ddq + C + G = Tau + Q)\n",
    "\n",
    "# M Matrix\n",
    "M = sym.zeros(len(q),len(q))\n",
    "\n",
    "for i in range(len(q)):\n",
    "    for j in range(len(q)):\n",
    "        M[i,j] = sym.diff(sym.diff(Ttot,dq[i]),dq[j])\n",
    "\n",
    "M = sym.simplify(M)\n",
    "\n",
    "M_size = int(np.sqrt(len(M))) # assumes square matrix (len(M) = 4x4 = 16)\n",
    "\n",
    "dM = sym.zeros(M_size,M_size)\n",
    "\n",
    "for i in range(M_size):\n",
    "    for j in range(M_size):\n",
    "        dM[i,j] = sym.Matrix([M[i,j]]).jacobian(q)*dq\n",
    "\n",
    "# C Matrix\n",
    "C = dM*dq - (sym.Matrix([Ttot]).jacobian(q)).transpose() # 4x1 - 1x4^Transpose\n",
    "\n",
    "# G Matrix\n",
    "G = (sym.Matrix([Vtot]).jacobian(q)).transpose() # 4x1\n",
    "\n",
    "F_ax = {}\n",
    "GRF = {}\n",
    "foot_position = {}\n",
    "\n",
    "lamda_F_ax = {}\n",
    "Jfoot = {}\n",
    "lamda_GRF = {}\n",
    "\n",
    "\n",
    "foot_position =  sym.Matrix([[r_bases['body'][0]],\n",
    "                             [r_bases['body'][1]]]).transpose()\n",
    "\n",
    "F_ax.update({('x'): sym.symbols('F_ax')})\n",
    "GRF.update({('x'): sym.symbols('GRF_x')})\n",
    "GRF.update({('y'): sym.symbols('GRF_y')})\n",
    "\n",
    "Jfoot.update({('foot'): r_bases['body'].jacobian(q)})\n",
    "\n",
    "lamda_GRF.update({('xy'): sym.Matrix([[GRF['x']],[GRF['y']]])})\n",
    "lamda_F_ax.update({('x'): sym.Matrix([[F_ax['x']],[0]])})\n",
    "\n",
    "\n",
    "Q = (Jfoot['foot'].transpose()*lamda_GRF['xy']) + (Jfoot['foot'][0].transpose()*lamda_F_ax['x']) "
   ]
  },
  {
   "cell_type": "code",
   "execution_count": 13,
   "id": "ab3856d7",
   "metadata": {},
   "outputs": [
    {
     "data": {
      "text/latex": [
       "$\\displaystyle \\left[\\begin{matrix}F_{ax} + GRF_{x}\\\\GRF_{y}\\end{matrix}\\right]$"
      ],
      "text/plain": [
       "⎡Fₐₓ + GRFₓ⎤\n",
       "⎢          ⎥\n",
       "⎣  GRF_y   ⎦"
      ]
     },
     "execution_count": 13,
     "metadata": {},
     "output_type": "execute_result"
    }
   ],
   "source": [
    "Q"
   ]
  },
  {
   "cell_type": "code",
   "execution_count": 10,
   "id": "4d2c7761",
   "metadata": {},
   "outputs": [],
   "source": [
    "# Manipulator Equation \n",
    "EOM = M*ddq + G + C - Q \n",
    "\n",
    "# save the EOM in a file (saving the EOM saves lots of time)\n",
    "# import dill\n",
    "# dill.dump_session('unsimplified_biped_FW.db')"
   ]
  },
  {
   "cell_type": "code",
   "execution_count": 11,
   "id": "2ca110e5",
   "metadata": {},
   "outputs": [
    {
     "name": "stdout",
     "output_type": "stream",
     "text": [
      "{0} is done 0\n",
      "{0} is done 1\n"
     ]
    }
   ],
   "source": [
    "EOMs = sym.zeros(len(q),1)\n",
    "for j in range(len(q)):\n",
    "    print('{0} is done',j)\n",
    "    EOMs[j] = EOM[j].simplify()"
   ]
  },
  {
   "cell_type": "code",
   "execution_count": 12,
   "id": "ef918723",
   "metadata": {},
   "outputs": [],
   "source": [
    "# save the EOM in a file (saving the EOM saves lots of time)\n",
    "import dill\n",
    "dill.dump_session('simplified_point_mass.db')"
   ]
  },
  {
   "cell_type": "code",
   "execution_count": null,
   "id": "5e1367d5",
   "metadata": {},
   "outputs": [],
   "source": []
  }
 ],
 "metadata": {
  "kernelspec": {
   "display_name": "Python 3",
   "language": "python",
   "name": "python3"
  },
  "language_info": {
   "codemirror_mode": {
    "name": "ipython",
    "version": 3
   },
   "file_extension": ".py",
   "mimetype": "text/x-python",
   "name": "python",
   "nbconvert_exporter": "python",
   "pygments_lexer": "ipython3",
   "version": "3.9.5"
  }
 },
 "nbformat": 4,
 "nbformat_minor": 5
}
