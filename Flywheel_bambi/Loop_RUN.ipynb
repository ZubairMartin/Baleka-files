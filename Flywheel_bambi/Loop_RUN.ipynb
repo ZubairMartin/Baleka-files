{
 "cells": [
  {
   "cell_type": "code",
   "execution_count": null,
   "id": "ca090436",
   "metadata": {},
   "outputs": [],
   "source": [
    "# create folder to store everything: csv with points, csv with variables, torque speed, video\n",
    "# create csv, storing the total cost, ground penalty, optimal, TT, N, h range, mu, \n"
   ]
  },
  {
   "cell_type": "code",
   "execution_count": 2,
   "id": "7995068b",
   "metadata": {},
   "outputs": [
    {
     "name": "stdout",
     "output_type": "stream",
     "text": [
      "Stored 'var_1' (str)\n"
     ]
    }
   ],
   "source": [
    "var_1 = 'hello'\n",
    "%store var_1"
   ]
  },
  {
   "cell_type": "code",
   "execution_count": 3,
   "id": "02ec6cef",
   "metadata": {},
   "outputs": [],
   "source": [
    "%run ./TEST.ipynb"
   ]
  },
  {
   "cell_type": "code",
   "execution_count": null,
   "id": "84467d33",
   "metadata": {},
   "outputs": [],
   "source": [
    "print()"
   ]
  }
 ],
 "metadata": {
  "kernelspec": {
   "display_name": "Python 3",
   "language": "python",
   "name": "python3"
  },
  "language_info": {
   "codemirror_mode": {
    "name": "ipython",
    "version": 3
   },
   "file_extension": ".py",
   "mimetype": "text/x-python",
   "name": "python",
   "nbconvert_exporter": "python",
   "pygments_lexer": "ipython3",
   "version": "3.9.5"
  }
 },
 "nbformat": 4,
 "nbformat_minor": 5
}
