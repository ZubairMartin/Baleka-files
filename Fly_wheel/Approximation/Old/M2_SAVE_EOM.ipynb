{
 "cells": [
  {
   "cell_type": "code",
   "execution_count": 1,
   "id": "05cd8575",
   "metadata": {},
   "outputs": [
    {
     "name": "stdout",
     "output_type": "stream",
     "text": [
      "Once deleted, variables cannot be recovered. Proceed (y/[n])? y\n"
     ]
    }
   ],
   "source": [
    "# EOMs\n",
    "%reset\n",
    "#import libraries\n",
    "import sympy as sym\n",
    "import numpy as np\n",
    "import pickle as pickle\n",
    "\n",
    "sym.init_printing()\n",
    "from IPython.display import display #for pretty printing\n",
    "\n",
    "# Symbols --------------------------------------------------\n",
    "links = ['body','UL','UR','footL','footR']"
   ]
  },
  {
   "cell_type": "code",
   "execution_count": 2,
   "id": "8fcc9f81",
   "metadata": {},
   "outputs": [],
   "source": [
    "#Parameters\n",
    "masses = {}\n",
    "lengths = {}\n",
    "inertias = {}\n",
    "th = {}\n",
    "dth = {}\n",
    "ddth = {}\n",
    "r_prismatic = {}\n",
    "dr_prismatic = {}\n",
    "ddr_prismatic = {}\n",
    "\n",
    "g = sym.symbols('g')\n",
    "\n",
    "#gen coordinates\n",
    "x_body,y_body,th_body = sym.symbols(['x_body','y_body','theta_{0}'.format('body')])\n",
    "dx_body,dy_body,dth_body = sym.symbols(['\\dot{\\\\x}_{body}','\\dot{\\\\y}_{body}','\\dot{\\\\theta}_{body}'])\n",
    "ddx_body,ddy_body,ddth_body = sym.symbols(['\\ddot{\\\\x}_{body}','\\ddot{\\\\y}_{body}','\\ddot{\\\\theta}_{body}'])\n",
    "\n",
    "for link in links:\n",
    "    masses.update({(link): sym.symbols('m_{0}'.format(link))})\n",
    "    lengths.update({(link): sym.symbols('l_{0}'.format(link))})\n",
    "    inertias.update({(link): sym.symbols('In_{0}'.format(link))})\n",
    "    \n",
    "    if 'body' in link:\n",
    "        pass\n",
    "    if 'foot' in link:\n",
    "        r_prismatic.update({(link): sym.symbols('{{r\\_prismatic}}_{{{0}}}'.format(link))})\n",
    "        dr_prismatic.update({(link): sym.symbols('\\dot{{\\\\r\\_prismatic}}_{{{0}}}'.format(link))})\n",
    "        ddr_prismatic.update({(link): sym.symbols('\\ddot{{\\\\r\\_prismatic}}_{{{0}}}'.format(link))})\n",
    "    else:\n",
    "        th.update({(link): sym.symbols('theta_{0}'.format(link))}) \n",
    "        dth.update({(link): sym.symbols('\\dot{{\\\\theta}}_{{{0}}}'.format(link))})\n",
    "        ddth.update({(link): sym.symbols('\\ddot{{\\\\theta}}_{{{0}}}'.format(link))})"
   ]
  },
  {
   "cell_type": "code",
   "execution_count": 3,
   "id": "cd52d585",
   "metadata": {},
   "outputs": [],
   "source": [
    "q = sym.Matrix([x_body]+[y_body]+[th[link] for link in links if 'foot' not in link]+[r_prismatic[link] for link in links if 'foot' in link])\n",
    "dq = sym.Matrix([dx_body]+[dy_body]+[dth[link] for link in links if 'foot' not in link]+[dr_prismatic[link] for link in links if 'foot' in link])\n",
    "ddq = sym.Matrix([ddx_body]+[ddy_body]+[ddth[link] for link in links if 'foot' not in link]+[ddr_prismatic[link] for link in links if 'foot' in link])"
   ]
  },
  {
   "cell_type": "code",
   "execution_count": 4,
   "id": "565c8497",
   "metadata": {},
   "outputs": [
    {
     "data": {
      "text/latex": [
       "$\\displaystyle \\left[\\begin{matrix}x_{body}\\\\y_{body}\\\\\\theta_{body}\\\\\\theta_{UL}\\\\\\theta_{UR}\\\\{r\\_prismatic}_{footL}\\\\{r\\_prismatic}_{footR}\\end{matrix}\\right]$"
      ],
      "text/plain": [
       "⎡        x_body        ⎤\n",
       "⎢                      ⎥\n",
       "⎢        y_body        ⎥\n",
       "⎢                      ⎥\n",
       "⎢        θ_body        ⎥\n",
       "⎢                      ⎥\n",
       "⎢         θ_UL         ⎥\n",
       "⎢                      ⎥\n",
       "⎢         θ_UR         ⎥\n",
       "⎢                      ⎥\n",
       "⎢{r\\_prismatic}_{footL}⎥\n",
       "⎢                      ⎥\n",
       "⎣{r\\_prismatic}_{footR}⎦"
      ]
     },
     "execution_count": 4,
     "metadata": {},
     "output_type": "execute_result"
    }
   ],
   "source": [
    "q"
   ]
  },
  {
   "cell_type": "code",
   "execution_count": 5,
   "id": "e58f8d85",
   "metadata": {},
   "outputs": [
    {
     "data": {
      "text/latex": [
       "$\\displaystyle \\left[\\begin{matrix}\\dot{\\x}_{body}\\\\\\dot{\\y}_{body}\\\\\\dot{\\theta}_{body}\\\\\\dot{\\theta}_{UL}\\\\\\dot{\\theta}_{UR}\\\\\\dot{\\r\\_prismatic}_{footL}\\\\\\dot{\\r\\_prismatic}_{footR}\\end{matrix}\\right]$"
      ],
      "text/plain": [
       "⎡      \\dot{\\x}_{body}      ⎤\n",
       "⎢                           ⎥\n",
       "⎢      \\dot{\\y}_{body}      ⎥\n",
       "⎢                           ⎥\n",
       "⎢    \\dot{\\theta}_{body}    ⎥\n",
       "⎢                           ⎥\n",
       "⎢     \\dot{\\theta}_{UL}     ⎥\n",
       "⎢                           ⎥\n",
       "⎢     \\dot{\\theta}_{UR}     ⎥\n",
       "⎢                           ⎥\n",
       "⎢\\dot{\\r\\_prismatic}_{footL}⎥\n",
       "⎢                           ⎥\n",
       "⎣\\dot{\\r\\_prismatic}_{footR}⎦"
      ]
     },
     "execution_count": 5,
     "metadata": {},
     "output_type": "execute_result"
    }
   ],
   "source": [
    "dq"
   ]
  },
  {
   "cell_type": "code",
   "execution_count": 6,
   "id": "da1fc962",
   "metadata": {},
   "outputs": [
    {
     "data": {
      "text/latex": [
       "$\\displaystyle \\left[\\begin{matrix}\\ddot{\\x}_{body}\\\\\\ddot{\\y}_{body}\\\\\\ddot{\\theta}_{body}\\\\\\ddot{\\theta}_{UL}\\\\\\ddot{\\theta}_{UR}\\\\\\ddot{\\r\\_prismatic}_{footL}\\\\\\ddot{\\r\\_prismatic}_{footR}\\end{matrix}\\right]$"
      ],
      "text/plain": [
       "⎡      \\ddot{\\x}_{body}      ⎤\n",
       "⎢                            ⎥\n",
       "⎢      \\ddot{\\y}_{body}      ⎥\n",
       "⎢                            ⎥\n",
       "⎢    \\ddot{\\theta}_{body}    ⎥\n",
       "⎢                            ⎥\n",
       "⎢     \\ddot{\\theta}_{UL}     ⎥\n",
       "⎢                            ⎥\n",
       "⎢     \\ddot{\\theta}_{UR}     ⎥\n",
       "⎢                            ⎥\n",
       "⎢\\ddot{\\r\\_prismatic}_{footL}⎥\n",
       "⎢                            ⎥\n",
       "⎣\\ddot{\\r\\_prismatic}_{footR}⎦"
      ]
     },
     "execution_count": 6,
     "metadata": {},
     "output_type": "execute_result"
    }
   ],
   "source": [
    "ddq"
   ]
  },
  {
   "cell_type": "code",
   "execution_count": 7,
   "id": "a2733d0f",
   "metadata": {},
   "outputs": [],
   "source": [
    "''' Setup positions (to COM) and velocities'''\n",
    "\n",
    "\n",
    "# define absolute angles\n",
    "abs_angles = {}\n",
    "r_links = {}\n",
    "   \n",
    "abs_angles.update({('ULA'): th_body + th['UL']})\n",
    "abs_angles.update({('URA'): th_body + th['UR']})\n",
    "\n",
    "r_links.update({'body': sym.Matrix([[x_body,\n",
    "                                     y_body,\n",
    "                                     th['body']]]).transpose()})\n",
    "\n",
    "r_links.update({('UL'): sym.Matrix([[x_body-lengths['UL']/2*sym.cos(abs_angles['ULA']),\n",
    "                                     y_body-lengths['UL']/2*sym.sin(abs_angles['ULA']),\n",
    "                                     abs_angles['ULA']]]).transpose()})\n",
    "\n",
    "r_links.update({('footL'): sym.Matrix([[x_body-(lengths['UL']+r_prismatic['footL'])*sym.cos(abs_angles['ULA']),\n",
    "                                        y_body-(lengths['UL']+r_prismatic['footL'])*sym.sin(abs_angles['ULA']),\n",
    "                                        0.0]]).transpose()})\n",
    "\n",
    "r_links.update({('UR'): sym.Matrix([[x_body+lengths['UR']/2*sym.cos(np.pi - abs_angles['URA']),\n",
    "                                     y_body-lengths['UR']/2*sym.sin(np.pi - abs_angles['URA']),\n",
    "                                     abs_angles['URA']]]).transpose()})\n",
    "\n",
    "r_links.update({('footR'): sym.Matrix([[x_body+(lengths['UR']+r_prismatic['footR'])*sym.cos(np.pi - abs_angles['URA']),\n",
    "                                        y_body-(lengths['UR']+r_prismatic['footR'])*sym.sin(np.pi - abs_angles['URA']),\n",
    "                                        0.0]]).transpose()})"
   ]
  },
  {
   "cell_type": "code",
   "execution_count": 8,
   "id": "ad3524cb",
   "metadata": {},
   "outputs": [],
   "source": [
    "# the Jacobians\n",
    "Jbns = {}\n",
    "dr_links = {}\n",
    "\n",
    "for link in links:\n",
    "    Jbns.update({(link): r_links[link].jacobian(q)})\n",
    "    dr_links.update({(link): Jbns[link]*dq})"
   ]
  },
  {
   "cell_type": "code",
   "execution_count": 9,
   "id": "9cbbae47",
   "metadata": {},
   "outputs": [],
   "source": [
    "Mass_matrix = {}\n",
    "Ttot = sym.Matrix([[0.0]])\n",
    "Vtot = 0.0\n",
    "\n",
    "for link in links:\n",
    "    Mass_matrix.update({(link): sym.Matrix([[masses[link],masses[link],inertias[link]]])})\n",
    "    Ttot = Ttot + 0.5*Mass_matrix[link]*sym.matrix_multiply_elementwise(dr_links[link],dr_links[link])\n",
    "    Vtot = Vtot + masses[link]*g*r_links[link][1]\n",
    "Ttot = Ttot[0]"
   ]
  },
  {
   "cell_type": "code",
   "execution_count": 10,
   "id": "3a067b54",
   "metadata": {},
   "outputs": [],
   "source": [
    "# STEP 4: calculate each term of the Lagrange equation\n",
    "# term 1\n",
    "Lg1 = sym.zeros(len(q),1)\n",
    "for i in range(len(q)):\n",
    "    dT_ddq = sym.Matrix([sym.diff(Ttot,dq[i])]) # get partial of T in dq_i\n",
    "    Lg1[i] = dT_ddq.jacobian(q)*dq + dT_ddq.jacobian(dq)*ddq #...then get time derivative of that partial\n",
    "\n",
    "# term 3\n",
    "Lg3 = sym.Matrix([Ttot]).jacobian(q).transpose() # partial of T in q\n",
    "\n",
    "# term 4\n",
    "Lg4 = sym.Matrix([Vtot]).jacobian(q).transpose() # partial of U in q\n",
    "\n",
    "# STEP 5: generalized forces\n",
    "Fp = {}\n",
    "Tau = {}\n",
    "GRFs = {}\n",
    "\n",
    "Fp.update({('left'): sym.symbols('Fp_left')})\n",
    "Fp.update({('right'): sym.symbols('Fp_right')})\n",
    "\n",
    "Tau.update({('left'): sym.symbols('tau_left')})\n",
    "Tau.update({('right'): sym.symbols('tau_right')})\n",
    "\n",
    "GRFs.update({('x','left'): sym.symbols('GRF_x_left')})\n",
    "GRFs.update({('y','left'): sym.symbols('GRF_y_left')})\n",
    "GRFs.update({('x','right'): sym.symbols('GRF_x_right')})\n",
    "GRFs.update({('y','right'): sym.symbols('GRF_y_right')})\n",
    "\n",
    "Tau_body = sym.Matrix([[0],[0],[-Tau['left']-Tau['right']]])\n",
    "Tau_UL = sym.Matrix([[0],[0],[Tau['left']]])\n",
    "Tau_UR = sym.Matrix([[0],[0],[Tau['right']]])\n",
    "\n",
    "Fp_UL = sym.Matrix([[-Fp['left']*sym.cos(abs_angles['ULA'])],[Fp['left']*sym.sin(abs_angles['ULA'])],[0]])\n",
    "Fp_footL = sym.Matrix([[Fp['left']*sym.sin(abs_angles['ULA'])],[-Fp['left']*sym.cos(abs_angles['ULA'])],[0]])\n",
    "\n",
    "Fp_UR = sym.Matrix([[-Fp['right']*sym.cos(abs_angles['URA'])],[Fp['right']*sym.sin(abs_angles['URA'])],[0]])\n",
    "Fp_footR = sym.Matrix([[Fp['right']*sym.sin(abs_angles['URA'])],[-Fp['right']*sym.cos(abs_angles['URA'])],[0]])\n",
    "\n",
    "left_GRF_momentum = -(0.5*lengths['UL']+r_prismatic['footL'])*sym.cos(abs_angles['ULA'])*GRFs['y','left'] + (0.5*lengths['UL']+r_prismatic['footL'])*sym.sin(abs_angles['ULA'])*GRFs['x','left'] \n",
    "GRF_footL = sym.Matrix([[GRFs['x','left']],[GRFs['y','left']],[left_GRF_momentum]])\n",
    "\n",
    "right_GRF_momentum = (0.5*lengths['UR']+r_prismatic['footR'])*sym.cos(abs_angles['URA'])*GRFs['y','right'] + (0.5*lengths['UR']+r_prismatic['footR'])*sym.sin(abs_angles['URA'])*GRFs['x','right'] \n",
    "GRF_footR = sym.Matrix([[GRFs['x','right']],[GRFs['y','right']],[right_GRF_momentum]])\n",
    "\n",
    "Q = sym.zeros(len(q),1)\n",
    "for j in range(len(q)):\n",
    "    Q[j] = Tau_body.transpose()*Jbns['body'][:,j] + (Tau_UL+Fp_UL).transpose()*Jbns['UL'][:,j] + (Tau_UR+Fp_UR).transpose()*Jbns['UR'][:,j] + (Fp_footL+GRF_footL).transpose()*Jbns['footL'][:,j] + (Fp_footR+GRF_footR).transpose()*Jbns['footR'][:,j]\n"
   ]
  },
  {
   "cell_type": "code",
   "execution_count": 14,
   "id": "7d97e6a4",
   "metadata": {},
   "outputs": [
    {
     "data": {
      "text/latex": [
       "$\\displaystyle \\left[\\begin{matrix}- Fp_{left} \\cos{\\left(\\theta_{UL} + \\theta_{body} \\right)}\\\\Fp_{left} \\sin{\\left(\\theta_{UL} + \\theta_{body} \\right)}\\\\- Fp_{left} l_{UL} \\sin{\\left(\\theta_{UL} + \\theta_{body} \\right)} \\cos{\\left(\\theta_{UL} + \\theta_{body} \\right)}\\\\- Fp_{left} l_{UL} \\sin{\\left(\\theta_{UL} + \\theta_{body} \\right)} \\cos{\\left(\\theta_{UL} + \\theta_{body} \\right)}\\\\0\\\\0\\\\0\\end{matrix}\\right]$"
      ],
      "text/plain": [
       "⎡            -Fp_left⋅cos(θ_UL + θ_body)            ⎤\n",
       "⎢                                                   ⎥\n",
       "⎢            Fp_left⋅sin(θ_UL + θ_body)             ⎥\n",
       "⎢                                                   ⎥\n",
       "⎢-Fp_left⋅l_UL⋅sin(θ_UL + θ_body)⋅cos(θ_UL + θ_body)⎥\n",
       "⎢                                                   ⎥\n",
       "⎢-Fp_left⋅l_UL⋅sin(θ_UL + θ_body)⋅cos(θ_UL + θ_body)⎥\n",
       "⎢                                                   ⎥\n",
       "⎢                         0                         ⎥\n",
       "⎢                                                   ⎥\n",
       "⎢                         0                         ⎥\n",
       "⎢                                                   ⎥\n",
       "⎣                         0                         ⎦"
      ]
     },
     "execution_count": 14,
     "metadata": {},
     "output_type": "execute_result"
    }
   ],
   "source": [
    "Q = sym.zeros(len(q),1)\n",
    "for j in range(len(q)):\n",
    "    Q[j] = Fp_UL.transpose()*Jbns['UL'][:,j]\n",
    "Q\n",
    "    "
   ]
  },
  {
   "cell_type": "code",
   "execution_count": null,
   "id": "ce4128da",
   "metadata": {},
   "outputs": [],
   "source": []
  },
  {
   "cell_type": "code",
   "execution_count": 11,
   "id": "4d2c7761",
   "metadata": {},
   "outputs": [],
   "source": [
    "# Manipulator Equation \n",
    "EOM = Lg1 - Lg3 + Lg4 - Q\n",
    "\n",
    "# save the EOM in a file (saving the EOM saves lots of time)\n",
    "import dill\n",
    "dill.dump_session('M2_SAVE_EOM_unsimplified.db')"
   ]
  },
  {
   "cell_type": "code",
   "execution_count": 12,
   "id": "2ca110e5",
   "metadata": {},
   "outputs": [],
   "source": [
    "EOMs = sym.zeros(len(q),1)\n",
    "for j in range(len(q)):\n",
    "    EOMs[j] = EOM[j].simplify()"
   ]
  },
  {
   "cell_type": "code",
   "execution_count": 13,
   "id": "ef918723",
   "metadata": {},
   "outputs": [],
   "source": [
    "# save the EOM in a file (saving the EOM saves lots of time)\n",
    "import dill\n",
    "dill.dump_session('M2_SAVE_EOM_simplified.db')"
   ]
  }
 ],
 "metadata": {
  "kernelspec": {
   "display_name": "Python 3",
   "language": "python",
   "name": "python3"
  },
  "language_info": {
   "codemirror_mode": {
    "name": "ipython",
    "version": 3
   },
   "file_extension": ".py",
   "mimetype": "text/x-python",
   "name": "python",
   "nbconvert_exporter": "python",
   "pygments_lexer": "ipython3",
   "version": "3.9.5"
  }
 },
 "nbformat": 4,
 "nbformat_minor": 5
}
