{
 "cells": [
  {
   "cell_type": "code",
   "execution_count": 1,
   "id": "05cd8575",
   "metadata": {},
   "outputs": [
    {
     "name": "stdout",
     "output_type": "stream",
     "text": [
      "Once deleted, variables cannot be recovered. Proceed (y/[n])? y\n"
     ]
    }
   ],
   "source": [
    "# EOMs\n",
    "%reset\n",
    "#import libraries\n",
    "import sympy as sym\n",
    "import numpy as np\n",
    "import pickle as pickle\n",
    "\n",
    "sym.init_printing()\n",
    "from IPython.display import display #for pretty printing\n",
    "\n",
    "# Symbols --------------------------------------------------\n",
    "links = ['body','UL','UR','footL','footR']"
   ]
  },
  {
   "cell_type": "code",
   "execution_count": 2,
   "id": "8fcc9f81",
   "metadata": {},
   "outputs": [],
   "source": [
    "#Parameters\n",
    "masses = {}\n",
    "lengths = {}\n",
    "inertias = {}\n",
    "th = {}\n",
    "dth = {}\n",
    "ddth = {}\n",
    "r_prismatic = {}\n",
    "dr_prismatic = {}\n",
    "ddr_prismatic = {}\n",
    "\n",
    "g = sym.symbols('g')\n",
    "\n",
    "#gen coordinates\n",
    "x_body,y_body,th_body = sym.symbols(['x_body','y_body','theta_{0}'.format('body')])\n",
    "dx_body,dy_body,dth_body = sym.symbols(['\\dot{\\\\x}_{body}','\\dot{\\\\y}_{body}','\\dot{\\\\theta}_{body}'])\n",
    "ddx_body,ddy_body,ddth_body = sym.symbols(['\\ddot{\\\\x}_{body}','\\ddot{\\\\y}_{body}','\\ddot{\\\\theta}_{body}'])\n",
    "\n",
    "for link in links:\n",
    "    masses.update({(link): sym.symbols('m_{0}'.format(link))})\n",
    "    lengths.update({(link): sym.symbols('l_{0}'.format(link))})\n",
    "    inertias.update({(link): sym.symbols('In_{0}'.format(link))})\n",
    "    \n",
    "    if 'body' in link:\n",
    "        pass\n",
    "    if 'foot' in link:\n",
    "        r_prismatic.update({(link): sym.symbols('{{r\\_prismatic}}_{{{0}}}'.format(link))})\n",
    "        dr_prismatic.update({(link): sym.symbols('\\dot{{\\\\r\\_prismatic}}_{{{0}}}'.format(link))})\n",
    "        ddr_prismatic.update({(link): sym.symbols('\\ddot{{\\\\r\\_prismatic}}_{{{0}}}'.format(link))})\n",
    "    else:\n",
    "        th.update({(link): sym.symbols('theta_{0}'.format(link))}) \n",
    "        dth.update({(link): sym.symbols('\\dot{{\\\\theta}}_{{{0}}}'.format(link))})\n",
    "        ddth.update({(link): sym.symbols('\\ddot{{\\\\theta}}_{{{0}}}'.format(link))})"
   ]
  },
  {
   "cell_type": "code",
   "execution_count": 3,
   "id": "cd52d585",
   "metadata": {},
   "outputs": [],
   "source": [
    "q = sym.Matrix([x_body]+[y_body]+[th[link] for link in links if 'foot' not in link]+[r_prismatic[link] for link in links if 'foot' in link])\n",
    "dq = sym.Matrix([dx_body]+[dy_body]+[dth[link] for link in links if 'foot' not in link]+[dr_prismatic[link] for link in links if 'foot' in link])\n",
    "ddq = sym.Matrix([ddx_body]+[ddy_body]+[ddth[link] for link in links if 'foot' not in link]+[ddr_prismatic[link] for link in links if 'foot' in link])"
   ]
  },
  {
   "cell_type": "code",
   "execution_count": 4,
   "id": "565c8497",
   "metadata": {},
   "outputs": [
    {
     "data": {
      "text/latex": [
       "$\\displaystyle \\left[\\begin{matrix}x_{body}\\\\y_{body}\\\\\\theta_{body}\\\\\\theta_{UL}\\\\\\theta_{UR}\\\\{r\\_prismatic}_{footL}\\\\{r\\_prismatic}_{footR}\\end{matrix}\\right]$"
      ],
      "text/plain": [
       "⎡        x_body        ⎤\n",
       "⎢                      ⎥\n",
       "⎢        y_body        ⎥\n",
       "⎢                      ⎥\n",
       "⎢        θ_body        ⎥\n",
       "⎢                      ⎥\n",
       "⎢         θ_UL         ⎥\n",
       "⎢                      ⎥\n",
       "⎢         θ_UR         ⎥\n",
       "⎢                      ⎥\n",
       "⎢{r\\_prismatic}_{footL}⎥\n",
       "⎢                      ⎥\n",
       "⎣{r\\_prismatic}_{footR}⎦"
      ]
     },
     "execution_count": 4,
     "metadata": {},
     "output_type": "execute_result"
    }
   ],
   "source": [
    "q"
   ]
  },
  {
   "cell_type": "code",
   "execution_count": 5,
   "id": "e58f8d85",
   "metadata": {},
   "outputs": [
    {
     "data": {
      "text/latex": [
       "$\\displaystyle \\left[\\begin{matrix}\\dot{\\x}_{body}\\\\\\dot{\\y}_{body}\\\\\\dot{\\theta}_{body}\\\\\\dot{\\theta}_{UL}\\\\\\dot{\\theta}_{UR}\\\\\\dot{\\r\\_prismatic}_{footL}\\\\\\dot{\\r\\_prismatic}_{footR}\\end{matrix}\\right]$"
      ],
      "text/plain": [
       "⎡      \\dot{\\x}_{body}      ⎤\n",
       "⎢                           ⎥\n",
       "⎢      \\dot{\\y}_{body}      ⎥\n",
       "⎢                           ⎥\n",
       "⎢    \\dot{\\theta}_{body}    ⎥\n",
       "⎢                           ⎥\n",
       "⎢     \\dot{\\theta}_{UL}     ⎥\n",
       "⎢                           ⎥\n",
       "⎢     \\dot{\\theta}_{UR}     ⎥\n",
       "⎢                           ⎥\n",
       "⎢\\dot{\\r\\_prismatic}_{footL}⎥\n",
       "⎢                           ⎥\n",
       "⎣\\dot{\\r\\_prismatic}_{footR}⎦"
      ]
     },
     "execution_count": 5,
     "metadata": {},
     "output_type": "execute_result"
    }
   ],
   "source": [
    "dq"
   ]
  },
  {
   "cell_type": "code",
   "execution_count": 6,
   "id": "da1fc962",
   "metadata": {},
   "outputs": [
    {
     "data": {
      "text/latex": [
       "$\\displaystyle \\left[\\begin{matrix}\\ddot{\\x}_{body}\\\\\\ddot{\\y}_{body}\\\\\\ddot{\\theta}_{body}\\\\\\ddot{\\theta}_{UL}\\\\\\ddot{\\theta}_{UR}\\\\\\ddot{\\r\\_prismatic}_{footL}\\\\\\ddot{\\r\\_prismatic}_{footR}\\end{matrix}\\right]$"
      ],
      "text/plain": [
       "⎡      \\ddot{\\x}_{body}      ⎤\n",
       "⎢                            ⎥\n",
       "⎢      \\ddot{\\y}_{body}      ⎥\n",
       "⎢                            ⎥\n",
       "⎢    \\ddot{\\theta}_{body}    ⎥\n",
       "⎢                            ⎥\n",
       "⎢     \\ddot{\\theta}_{UL}     ⎥\n",
       "⎢                            ⎥\n",
       "⎢     \\ddot{\\theta}_{UR}     ⎥\n",
       "⎢                            ⎥\n",
       "⎢\\ddot{\\r\\_prismatic}_{footL}⎥\n",
       "⎢                            ⎥\n",
       "⎣\\ddot{\\r\\_prismatic}_{footR}⎦"
      ]
     },
     "execution_count": 6,
     "metadata": {},
     "output_type": "execute_result"
    }
   ],
   "source": [
    "ddq"
   ]
  },
  {
   "cell_type": "code",
   "execution_count": 7,
   "id": "a2733d0f",
   "metadata": {},
   "outputs": [],
   "source": [
    "''' Setup positions (to COM) and velocities'''\n",
    "\n",
    "\n",
    "# define absolute angles\n",
    "abs_angles = {}\n",
    "r_links = {}\n",
    "r_force = {}\n",
    "   \n",
    "abs_angles.update({('ULA'): th_body + th['UL']})\n",
    "abs_angles.update({('URA'): th_body + th['UR']})\n",
    "\n",
    "r_links.update({'body': sym.Matrix([[x_body,\n",
    "                                     y_body,\n",
    "                                     th['body']]]).transpose()})\n",
    "\n",
    "r_links.update({('UL'): sym.Matrix([[x_body-lengths['UL']/2*sym.cos(abs_angles['ULA']),\n",
    "                                     y_body-lengths['UL']/2*sym.sin(abs_angles['ULA']),\n",
    "                                     abs_angles['ULA']]]).transpose()})\n",
    "\n",
    "r_links.update({('UR'): sym.Matrix([[x_body+lengths['UR']/2*sym.cos(np.pi - abs_angles['URA']),\n",
    "                                     y_body-lengths['UR']/2*sym.sin(np.pi - abs_angles['URA']),\n",
    "                                     abs_angles['URA']]]).transpose()})\n",
    "\n",
    "r_links.update({('footL'): sym.Matrix([[x_body-(lengths['UL']+r_prismatic['footL'])*sym.cos(abs_angles['ULA']),\n",
    "                                        y_body-(lengths['UL']+r_prismatic['footL'])*sym.sin(abs_angles['ULA']),\n",
    "                                        0.0]]).transpose()})\n",
    "\n",
    "r_links.update({('footR'): sym.Matrix([[x_body+(lengths['UR']+r_prismatic['footR'])*sym.cos(np.pi - abs_angles['URA']),\n",
    "                                        y_body-(lengths['UR']+r_prismatic['footR'])*sym.sin(np.pi - abs_angles['URA']),\n",
    "                                        0.0]]).transpose()})\n",
    "\n",
    "r_force.update({('left'): sym.Matrix([[x_body-lengths['UL']*sym.cos(abs_angles['ULA']),\n",
    "                                       y_body-lengths['UL']*sym.sin(abs_angles['ULA']),\n",
    "                                       0.0]]).transpose()})\n",
    "\n",
    "r_force.update({('right'): sym.Matrix([[x_body+lengths['UR']*sym.cos(np.pi-abs_angles['URA']),\n",
    "                                        y_body-lengths['UR']*sym.sin(np.pi-abs_angles['URA']),\n",
    "                                        0.0]]).transpose()})"
   ]
  },
  {
   "cell_type": "code",
   "execution_count": 8,
   "id": "9a025ca5",
   "metadata": {},
   "outputs": [],
   "source": [
    "# the Jacobians\n",
    "Jbns = {}\n",
    "dr_links = {}\n",
    "\n",
    "for link in links:\n",
    "    Jbns.update({(link): r_links[link].jacobian(q)})\n",
    "    dr_links.update({(link): Jbns[link]*dq})\n",
    "    \n",
    "Jbn_left_force = r_force['left'].jacobian(q)\n",
    "Jbn_right_force = r_force['right'].jacobian(q)\n",
    "    \n",
    "Mass_matrix = {}\n",
    "Ttot = sym.Matrix([[0.0]])\n",
    "Vtot = 0.0\n",
    "\n",
    "for link in links:\n",
    "    Mass_matrix.update({(link): sym.Matrix([[masses[link],masses[link],inertias[link]]])})\n",
    "    Ttot = Ttot + 0.5*Mass_matrix[link]*sym.matrix_multiply_elementwise(dr_links[link],dr_links[link])\n",
    "    Vtot = Vtot + masses[link]*g*r_links[link][1]\n",
    "Ttot = Ttot[0]"
   ]
  },
  {
   "cell_type": "code",
   "execution_count": 9,
   "id": "3a067b54",
   "metadata": {},
   "outputs": [],
   "source": [
    "# Manipulator Equation (M*ddq + C + G = Tau + Q)\n",
    "\n",
    "# M Matrix\n",
    "M = sym.zeros(len(q),len(q))\n",
    "\n",
    "for i in range(len(q)):\n",
    "    for j in range(len(q)):\n",
    "        M[i,j] = sym.diff(sym.diff(Ttot,dq[i]),dq[j])\n",
    "\n",
    "M = sym.simplify(M)\n",
    "\n",
    "M_size = int(np.sqrt(len(M))) # assumes square matrix (len(M) = 4x4 = 16)\n",
    "\n",
    "dM = sym.zeros(M_size,M_size)\n",
    "\n",
    "for i in range(M_size):\n",
    "    for j in range(M_size):\n",
    "        dM[i,j] = sym.Matrix([M[i,j]]).jacobian(q)*dq\n",
    "\n",
    "# C Matrix\n",
    "C = dM*dq - (sym.Matrix([Ttot]).jacobian(q)).transpose() # 4x1 - 1x4^Transpose\n",
    "\n",
    "# G Matrix\n",
    "G = (sym.Matrix([Vtot]).jacobian(q)).transpose() # 4x1\n",
    "\n",
    "# define \n",
    "tau = {}\n",
    "grf = {}\n",
    "fp = {}\n",
    "\n",
    "tau.update({('left'): sym.symbols('tau_left')})\n",
    "tau.update({('right'): sym.symbols('tau_right')})\n",
    "\n",
    "fp.update({('left'): sym.symbols('Fp_left')})\n",
    "fp.update({('right'): sym.symbols('Fp_right')})\n",
    "\n",
    "grf.update({('x','left'): sym.symbols('GRF_x_left')})\n",
    "grf.update({('y','left'): sym.symbols('GRF_y_left')})\n",
    "grf.update({('x','right'): sym.symbols('GRF_x_right')})\n",
    "grf.update({('y','right'): sym.symbols('GRF_y_right')})\n",
    "\n",
    "# Q?\n",
    "# GRF_left = sym.Matrix([GRF['x','left'],GRF['y','left']])\n",
    "# GRF_right = sym.Matrix([GRF['x','right'],GRF['y','right']])\n",
    "        \n",
    "left_momentum = -(0.5*lengths['UL']+r_prismatic['footL'])*sym.cos(abs_angles['ULA'])*grf['y','left'] +\\\n",
    "                 (0.5*lengths['UL']+r_prismatic['footL'])*sym.sin(abs_angles['ULA'])*grf['x','left'] \n",
    "GRF_left = sym.Matrix([[grf['x','left']],[grf['y','left']],[left_momentum*0.0]])\n",
    "\n",
    "right_momentum = (0.5*lengths['UR']+r_prismatic['footR'])*sym.cos(np.pi-abs_angles['URA'])*grf['y','right'] +\\\n",
    "                 (0.5*lengths['UR']+r_prismatic['footR'])*sym.sin(np.pi-abs_angles['URA'])*grf['x','right'] \n",
    "GRF_right = sym.Matrix([[grf['x','right']],[grf['y','right']],[right_momentum*0.0]])\n",
    "\n",
    "Tau = sym.Matrix([[0],[0],[0],[tau['left']],[tau['right']],[0],[0]])\n",
    "# Fp = sym.Matrix([[0],[0],[0],[0],[0],[fp['left']],[fp['right']]])\n",
    "\n",
    "Fp_UL = sym.Matrix([[-fp['left']*sym.cos(abs_angles['ULA'])],[-fp['left']*sym.sin(abs_angles['ULA'])],[0.0]])\n",
    "Fp_LL = sym.Matrix([[fp['left']*sym.cos(abs_angles['ULA'])],[fp['left']*sym.sin(abs_angles['ULA'])],[0.0]])\n",
    "\n",
    "Fp_UR = sym.Matrix([[fp['right']*sym.cos(np.pi-abs_angles['URA'])],[-fp['right']*sym.sin(np.pi-abs_angles['URA'])],[0.0]])\n",
    "Fp_LR = sym.Matrix([[-fp['right']*sym.cos(np.pi-abs_angles['URA'])],[fp['right']*sym.sin(np.pi-abs_angles['URA'])],[0.0]])\n",
    "\n",
    "# transpose both terms\n",
    "Q = Jbns['footL'].transpose()*GRF_left + \\\n",
    "    Jbns['footR'].transpose()*GRF_right + \\\n",
    "    Jbns['footL'].transpose()*Fp_LL + \\\n",
    "    Jbns['footR'].transpose()*Fp_LR + \\\n",
    "    Jbn_left_force.transpose()*Fp_UL +\\\n",
    "    Jbn_right_force.transpose()*Fp_UR"
   ]
  },
  {
   "cell_type": "code",
   "execution_count": 10,
   "id": "4d2c7761",
   "metadata": {},
   "outputs": [],
   "source": [
    "# Manipulator Equation \n",
    "EOM = M*ddq + G + C - Tau - Q \n",
    "\n",
    "# save the EOM in a file (saving the EOM saves lots of time)\n",
    "import dill\n",
    "dill.dump_session('M1_unsimplified_zero.db')"
   ]
  },
  {
   "cell_type": "code",
   "execution_count": 11,
   "id": "2ca110e5",
   "metadata": {},
   "outputs": [],
   "source": [
    "EOMs = sym.zeros(len(q),1)\n",
    "for j in range(len(q)):\n",
    "    EOMs[j] = EOM[j].simplify()"
   ]
  },
  {
   "cell_type": "code",
   "execution_count": 12,
   "id": "ef918723",
   "metadata": {},
   "outputs": [],
   "source": [
    "# save the EOM in a file (saving the EOM saves lots of time)\n",
    "import dill\n",
    "dill.dump_session('M1_simplified_zero.db')"
   ]
  }
 ],
 "metadata": {
  "kernelspec": {
   "display_name": "Python 3",
   "language": "python",
   "name": "python3"
  },
  "language_info": {
   "codemirror_mode": {
    "name": "ipython",
    "version": 3
   },
   "file_extension": ".py",
   "mimetype": "text/x-python",
   "name": "python",
   "nbconvert_exporter": "python",
   "pygments_lexer": "ipython3",
   "version": "3.9.5"
  }
 },
 "nbformat": 4,
 "nbformat_minor": 5
}
