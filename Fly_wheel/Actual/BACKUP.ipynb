{
 "cells": [
  {
   "cell_type": "code",
   "execution_count": null,
   "id": "8f4e4a0a",
   "metadata": {},
   "outputs": [],
   "source": [
    "# Need to scale problem better\n",
    "# Need to include the cost function"
   ]
  },
  {
   "cell_type": "code",
   "execution_count": null,
   "id": "babda8fb",
   "metadata": {},
   "outputs": [],
   "source": []
  }
 ],
 "metadata": {
  "kernelspec": {
   "display_name": "Python 3",
   "language": "python",
   "name": "python3"
  }
 },
 "nbformat": 4,
 "nbformat_minor": 5
}
